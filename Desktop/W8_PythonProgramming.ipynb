{
 "cells": [
  {
   "cell_type": "markdown",
   "metadata": {},
   "source": []
  },
  {
   "cell_type": "markdown",
   "metadata": {},
   "source": [
    "WEEK-8: OBJECT ORIENTED PROGRAMMING\n",
    "\n",
    "Object Oriented Programming ---> In python, everything is an object, with its properties & method."
   ]
  },
  {
   "cell_type": "markdown",
   "metadata": {},
   "source": [
    "Class  ---> Class is like an object constructor or a blueprint for creating objects.\n",
    "\n",
    "Class Syntax:\n",
    "\n",
    "class class_name:\n",
    "    \n",
    ".....//statement\n",
    "\n",
    "obj = class_name()\n",
    "print(obj.attrib)"
   ]
  },
  {
   "cell_type": "code",
   "execution_count": null,
   "metadata": {},
   "outputs": [],
   "source": [
    "#example\n",
    "class Membership:\n",
    "\n",
    "    def __init__(self, occup, age, name): #to initialise with user inputs\n",
    "        self.occup=occup\n",
    "        self.age=age\n",
    "        self.name=name\n",
    "\n",
    "    def display(self): #to display the information\n",
    "        print(\"Member's Occupation:\", self.occup)\n",
    "        print(\"Member's name: \", self.name)\n",
    "        print(\"Member's age: \", self.age)\n",
    "\n",
    "mem1=Membership(\"AI Engineer\", 27, \"Anthony\")\n",
    "mem1.display()\n",
    "mem2=Membership(\"Physicist\", 28, \"Mark\")\n",
    "mem2.display()\n",
    "\n",
    "#The method __init__ simulates the constructor of teh class. This method is called when the class is instantiated.\n",
    "\n",
    "# It c"
   ]
  },
  {
   "cell_type": "markdown",
   "metadata": {},
   "source": [
    "Philosophy Behind OOP ---> Blueprints\n",
    "\n",
    "A clear, visual representation of the desired outcome, including dimensions, materials, & assembly instructions.\n",
    "\n",
    "Concept originated from the need to plan & organize complex constructions or creations before physically building them.\n",
    "\n",
    "Practice dates back to thousands of years, where detailed plans were drawn of papyrus or stone tablets.\n",
    "\n",
    "It enables builders & craftsmen to follow a systematic approach, creating something according to a predefined design.\n",
    "\n",
    "The actual process is obsolete, being almost entirely superseded by digital computer-aided construction drawings & prints.\n",
    "\n",
    "The term blueprint continues to be used less formally to refer to any type of plan.\n",
    "\n",
    "This concept of a blueprint is closely tied to the Object-Oriented Programming paradigm in programming."
   ]
  },
  {
   "cell_type": "markdown",
   "metadata": {},
   "source": [
    "Object Oriented Programming (OOP)\n",
    "\n",
    "In OOP, there exists the notion of class which acts as a blueprint or template for creating objects.\n",
    "\n",
    "A class in OOP:\n",
    "    -> defines the properties (ATTRIBUTES) &\n",
    "    -> behaviors (METHODS) that the objects will have.\n",
    "\n",
    "Just like a blueprint provides a detailed plan for constructing a building, a class serves as a blueprint for creating objects with specific characterstics & functionalities."
   ]
  },
  {
   "cell_type": "markdown",
   "metadata": {},
   "source": [
    "Object In OOP\n",
    "\n",
    "Objects are instances of a class, much like individual cars are instances of the particular car-making blueprint.\n",
    "\n",
    "By following a well-designed blueprint (class), developers can create consistent & reliable objects that adhere to predefined specifications.\n",
    "\n",
    "The principle of \"inheritance\" in OOP will enable creation of different types of objects (cars, for our example) based on the same blueprint, just like we can modify the materials, specifications or techniques to create different types of cars."
   ]
  },
  {
   "cell_type": "markdown",
   "metadata": {},
   "source": [
    "Creating Your Own Objects\n",
    "\n",
    "For revision sake, in python, a class is a blueprint or template for creating objects. It defines the properties (i.e. attibutes) & behaviors (i.e. methods) that the objects will have. Objects, while, are the instances of the class."
   ]
  },
  {
   "cell_type": "code",
   "execution_count": null,
   "metadata": {},
   "outputs": [],
   "source": [
    "#defining the class\n",
    "class Planet:\n",
    "    count = 0 \n",
    "    def revolutions(self):\n",
    "        self.count = self.count + 1\n",
    "        print(self.count)\n",
    "#'self' helps us to refer to any variables or any functions which will be defined within the class.\n",
    "\n",
    "#creating an object of the above class\n",
    "x = Planet()\n",
    "\n",
    "#print an attribute of this class\n",
    "print(x.count)\n",
    "\n",
    "#call a method of this class\n",
    "x.revolutions()\n",
    "x.revolutions()\n",
    "x.revolutions()\n",
    "\n",
    "#another approach\n",
    "Planet.revolutions(x)"
   ]
  },
  {
   "cell_type": "markdown",
   "metadata": {},
   "source": [
    "Class: Code Skeleton\n",
    "\n",
    "For the below example code, \n",
    "\n",
    "class Keyword:\n",
    "    -> class keyword is used to define a new class in Python.\n",
    "    -> MyClass is the name of the class being defined.\n",
    "\n",
    "__init__ method:\n",
    "    -> It's a special method (that is basically just what a function inside a class is refered as) in python classes, known as the constructor method.\n",
    "    -> It's automatically called when an object (instance) of the class is created.\n",
    "    -> The 'self' parameter represents the instance of the class being created, & it is a convention to use self as the first parameter.\n",
    "    -> attribute1 & attribute2 are parameters that will be used to initialize the attributes (instance variables) of the object.\n",
    "\n",
    "self keyword:\n",
    "    -> It is a reference to the instance (object) of the class, & is used to access & modify the instance attributes/methods.\n",
    "    -> In the __init__ method, self is used to assign the values of attribute1 & attribute2 to the corresponding instance attributes.\n",
    "    -> In this method1 function, self is used to access attribute1 & attribute2 values of the specfic object instance.\n",
    "\n",
    "instance attributes:\n",
    "    -> They are variables that are unique to each instance (object) of the class.\n",
    "    -> In this case, attribute1 & attribute2 are instance attributes defined within __init__ method.\n",
    "\n",
    "Instance Methods:\n",
    "    -> They are functions within a class that can operate on the instance attributes & perform specific actions.\n",
    "    -> In this example, method1 is an instance method that returns a formatted string using the instance attributes attribute1 & attribute2.\n",
    "\n",
    "Creating Objects (Instances)\n",
    "\n",
    "    -> They are created using the class name followed by parentheses, with any arguments passed to the constructor (__inti__ method)\n",
    "    -> In this case, obj1 & obj2 are instances of MyClass class, with different values passed for attribute1 & attribute2."
   ]
  },
  {
   "cell_type": "code",
   "execution_count": null,
   "metadata": {},
   "outputs": [],
   "source": [
    "#define a class\n",
    "class MyClass: #it's generally suggested to start the class name with a capital letter\n",
    "    #constructor method\n",
    "    def __init__(self, attribute1, attribute2):\n",
    "        self.attribute1 = attribute1\n",
    "        self.attribute2 = attribute2\n",
    "\n",
    "    #method to perform an action\n",
    "    def method(self):\n",
    "        return f\"Method 1 called with attributes {self.attribute1} and {self.attribute2}\"\n",
    "\n",
    "#create objects (instances) of the class\n",
    "obj1 = MyClass(\"value1\", \"value2\")\n",
    "obj2 = MyClass(\"value3\", \"value4\")\n",
    "\n",
    "#Access attributes & call methods of objects\n",
    "print(obj1.attribute1) #output: value1\n",
    "print(obj2.attribute2) #output: value4\n",
    "\n",
    "print(obj1.method1()) #Output: Method 1 is called with attributes value1 & value2\n",
    "print(obj2.method1()) #Output: Method 1 is called with attributes value3 & value4"
   ]
  },
  {
   "cell_type": "markdown",
   "metadata": {},
   "source": [
    "Is Using \"self\" Mandatory?\n",
    "\n",
    "While using the word self is a convention & recommended practice in Python, it is not mandatory. You can use any other word as the first argument in methods, including instance methods like __init__.\n",
    "\n",
    "However, it's important to note that the first argument will still refer to the instance of the class regardless of the name you choose."
   ]
  },
  {
   "cell_type": "code",
   "execution_count": null,
   "metadata": {},
   "outputs": [],
   "source": [
    "class MyClass: #defining a class\n",
    "    #constructor method\n",
    "    def __init__(this, attribute1, attribute2):\n",
    "        this.attribute1 = attribute1 #using \"this\" instead of self\n",
    "        this.attribute2 = attribute2 #using \"this\" instead of self\n",
    "\n",
    "    #method to perform an action\n",
    "    def method(this):\n",
    "        return f\"Method 1 called with attributes {this.attribute1} and {this.attribute2}\"\n",
    "\n",
    "#create objects (instances) of the class\n",
    "obj = MyClass(\"value1\", \"value2\")\n",
    "\n",
    "#Access attributes & call methods of objects\n",
    "print(obj.attribute1) #output: value1\n",
    "print(obj.method1()) #Output: Method 1 is called with attributes value1 & value2"
   ]
  },
  {
   "cell_type": "markdown",
   "metadata": {},
   "source": [
    "Common Errors While Creating Classes\n",
    "\n",
    "(i) Forgetting the self Parameter\n",
    "\n",
    "print_x method is missing the self parameter, which causes an error when trying to access the instance of attribute x.\n",
    "\n",
    "Instance methods should always have self as the first parameter to refer to the instance's attributes & methods."
   ]
  },
  {
   "cell_type": "code",
   "execution_count": null,
   "metadata": {},
   "outputs": [],
   "source": [
    "class MyClass:\n",
    "    def __init__(self,x):\n",
    "        self.x = x\n",
    "\n",
    "    def print_x(self): #Missing self Parameter\n",
    "        print(x) #Error: x is not defined\n",
    "\n",
    "obj=MyClass(10)\n",
    "obj.print_x() #AttributeError: 'MyClass' object has no attribute 'print_x'"
   ]
  },
  {
   "cell_type": "markdown",
   "metadata": {},
   "source": [
    "(ii) Accessing Attributes Outside the Class\n",
    "\n",
    "Trying to access the instance attribute y outside the class, results in a NameError.\n",
    "\n",
    "Instance attributes can only be accessed through an instance of the class or within the class methods."
   ]
  },
  {
   "cell_type": "code",
   "execution_count": null,
   "metadata": {},
   "outputs": [],
   "source": [
    "class MyClass:\n",
    "    def __init__(self, y):\n",
    "        self.y = y\n",
    "\n",
    "obj = MyClass(20)\n",
    "print(y) #Error: NameError: name 'y' is not defined"
   ]
  },
  {
   "cell_type": "markdown",
   "metadata": {},
   "source": [
    "(iii) Forgetting () When Creating An Instance\n",
    "\n",
    "Due to the missing paranthesis while defining object, the object is being assigned the class itself, instead of an instance of the class"
   ]
  },
  {
   "cell_type": "code",
   "execution_count": null,
   "metadata": {},
   "outputs": [],
   "source": [
    "class MyClass:\n",
    "    def __init__(self, z):\n",
    "        self.z = z\n",
    "\n",
    "obj = MyClass #Error: MyClass is a class, not an instance\n"
   ]
  },
  {
   "cell_type": "markdown",
   "metadata": {},
   "source": [
    "(iv) Not Using the __init__ Method\n",
    "\n",
    "If you don't define the __init__ method in your class, you can still create instances of the class. But you won't be able to initialize any instance attributes at the time of object creation. Instead, you'll have to add the attributes & their values after creating the instance."
   ]
  },
  {
   "cell_type": "code",
   "execution_count": null,
   "metadata": {},
   "outputs": [],
   "source": [
    "class MyClass:\n",
    "    pass #No __init__ method defined\n",
    "\n",
    "obj = MyClass() #Creates an instance without attributes\n",
    "\n",
    "#Adding attributes after instance creation\n",
    "obj.x = 10\n",
    "obj.y = 20\n",
    "\n",
    "print(obj.x) #output: 10\n",
    "print(obj.y) #output: 20"
   ]
  },
  {
   "cell_type": "markdown",
   "metadata": {},
   "source": [
    "CREATING YOUR OWN DATA TYPES\n",
    "\n",
    "Creating our own type \"sequence\", & makin' it operate in a manner very similar to the build-in type list.\n",
    "\n",
    "-> The special methods in Python surrounded by double underscores (_method_) are known as \"magic methods\" or \"dunder methods\" (short for \"double underscore methods\").\n",
    "-> They are predefined & have special meanings & behaviors associated with them.\n",
    "-> Used to define/customize the behavior of objects.\n",
    "-> Allow emulating the behavior of built-in types & operators, enabling creating objects that behave like built-in objects (eg: lists, strings, numbers)."
   ]
  },
  {
   "cell_type": "code",
   "execution_count": null,
   "metadata": {},
   "outputs": [],
   "source": [
    "class Sequence: #Capitalize names are the general convention\n",
    "    def __init__(self):\n",
    "        self.items = []\n",
    "\n",
    "    def __len__(self):\n",
    "        return len(self.items)\n",
    "    \n",
    "    def __getitem__(self, index):\n",
    "        return self.items[index]\n",
    "    \n",
    "    def __setitem__(self, index, value):\n",
    "        self.item[index] = value\n",
    "\n",
    "    def __delitem__(self, index):\n",
    "        del self.items[index]\n",
    "\n",
    "    def __iter__(self):\n",
    "        return iter(self.items)\n",
    "\n",
    "    def append(self, value):\n",
    "        self.items.append(value)\n",
    "\n",
    "#create a new sequence\n",
    "seq = Sequence()\n",
    "\n",
    "#append some itmes\n",
    "seq.append(10)\n",
    "seq.append(20)\n",
    "seq.append(30)\n",
    "print(seq) #Output: [10, 20, 30]\n",
    "\n",
    "#Access itmes using indexing\n",
    "print(seq[1]) #Output: 20"
   ]
  },
  {
   "cell_type": "markdown",
   "metadata": {},
   "source": [
    "APPLYING dir() & type() ON OBJECTS\n",
    "\n",
    "The dir() & type() functions are commonly used in Python to inspect the attributes & type of objects, including classes & instances of classes.\n",
    "\n",
    "dir():\n",
    "~ It returns a list of attributes & methods associated with an object.\n",
    "~ When called without arguments, dir() returns the list of names in the current local scope.\n",
    "~ When called with an object as an argument, dir() returns the list of valid attributes & methods associated with that object.\n",
    "\n",
    "type()\n",
    "~ Returns the type of an object."
   ]
  },
  {
   "cell_type": "code",
   "execution_count": null,
   "metadata": {},
   "outputs": [],
   "source": [
    "#dir()\n",
    "class MyClass:\n",
    "    def __init__(self, attribute):\n",
    "        self.attribute = attribute\n",
    "\n",
    "    def method(self):\n",
    "        pass\n",
    "\n",
    "obj = MyClass(\"value\")\n",
    "\n",
    "#Using dir() on the class\n",
    "print(\"Attributes & Methods of MyClass\")\n",
    "print(dir(MyClass))\n",
    "\n",
    "#Using dir() on an instance of the class\n",
    "print(\"Attributes & Methods of obj:\")\n",
    "print(dir(obj))"
   ]
  },
  {
   "cell_type": "code",
   "execution_count": null,
   "metadata": {},
   "outputs": [],
   "source": [
    "#type()\n",
    "class MyClass:\n",
    "    def __init__(self, attribute):\n",
    "        self.attribute = attribute\n",
    "\n",
    "    def method(self):\n",
    "        pass\n",
    "\n",
    "obj = MyClass(\"value\")\n",
    "\n",
    "#Using type() on the class\n",
    "print(\"Type of MyClass:\", type(MyClass))\n",
    "\n",
    "#Using type() on an instance of the class\n",
    "print(\"Type of obj:\", type(obj))"
   ]
  },
  {
   "cell_type": "markdown",
   "metadata": {},
   "source": [
    "CONCEPT OF INHERITANCE\n",
    "\n",
    "Inheritance is a fundamental concept in object-oriented programming (OOP).\n",
    "\n",
    "It allows a new class (called a \"subclass\" or \"derived class\") to inherit attributes & methods from an existing class (called a \"base class\" or \"parent class\").\n",
    "\n",
    "This promotes code reusability & enables the creation of hierarchial relationships between classes."
   ]
  },
  {
   "cell_type": "code",
   "execution_count": null,
   "metadata": {},
   "outputs": [],
   "source": [
    "#define the base class (parent class)\n",
    "class Animal:\n",
    "    def __init__(self, name):\n",
    "        self.name = name\n",
    "\n",
    "    def speak(self):\n",
    "        pass\n",
    "\n",
    "#define a subclass (derived class) that inherits from Animal\n",
    "class Dog(Animal):\n",
    "    def speak(self):\n",
    "        return \"Woof!\"\n",
    "    \n",
    "class Cat(Animal):\n",
    "    def speak(self):\n",
    "        return \"Meow!\"\n",
    "    \n",
    "#Create instances of the subclasses\n",
    "dog = Dog(\"Buddy\")\n",
    "cat = Cat(\"Whiskers\")\n",
    "\n",
    "#Call the speak() method on instances of the subclasses\n",
    "print(dog.name, \"says:\", dog.speak()) #Output: Buddy says: Woof!\n",
    "print(cat.name, \"says:\", cat.speak()) #Output: Whiskers says: Meow!"
   ]
  },
  {
   "cell_type": "markdown",
   "metadata": {},
   "source": [
    "Use of super()\n",
    "\n",
    "super() is a built-in function used to call methods from a superclass (parent class) in a subclass (child class).\n",
    "\n",
    "It allows the child class to access methods & properties of its parent class.\n",
    "\n",
    "It is often used in the __init__() method of a subclass to initialize the inherited attributes from the parent class, & ensures that the parent class's __init__() method is called before the subclass's __init__() method is executed, preventing duplication of code."
   ]
  },
  {
   "cell_type": "code",
   "execution_count": null,
   "metadata": {},
   "outputs": [],
   "source": [
    "class Parent:\n",
    "    def __init__(self, name):\n",
    "        self.name = name\n",
    "\n",
    "    def display(self):\n",
    "        print(\"Parent class display method:\", self.name)\n",
    "\n",
    "class Child(Parent):\n",
    "    def __init__ (self, name, age):\n",
    "        #Calling the Parent Class's __init__ method using super()\n",
    "        super().__init__(name)\n",
    "        self.age = age\n",
    "\n",
    "    def display(self):\n",
    "        #calling the parent class's display method\n",
    "        super().display()\n",
    "        print(\"Child class display method:\", self.age)\n",
    "\n",
    "#creating an instance of the child class\n",
    "child = Child(\"Alice\", 10)\n",
    "\n",
    "#Calling the display method of the Child class\n",
    "child.display()"
   ]
  }
 ],
 "metadata": {
  "kernelspec": {
   "display_name": "Python 3",
   "language": "python",
   "name": "python3"
  },
  "language_info": {
   "codemirror_mode": {
    "name": "ipython",
    "version": 3
   },
   "file_extension": ".py",
   "mimetype": "text/x-python",
   "name": "python",
   "nbconvert_exporter": "python",
   "pygments_lexer": "ipython3",
   "version": "3.11.9"
  }
 },
 "nbformat": 4,
 "nbformat_minor": 2
}
